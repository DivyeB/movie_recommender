{
  "nbformat": 4,
  "nbformat_minor": 0,
  "metadata": {
    "colab": {
      "provenance": []
    },
    "kernelspec": {
      "name": "python3",
      "display_name": "Python 3"
    },
    "language_info": {
      "name": "python"
    }
  },
  "cells": [
    {
      "cell_type": "code",
      "execution_count": 1,
      "metadata": {
        "id": "-eglOkoX7KyS"
      },
      "outputs": [],
      "source": [
        "import numpy as np\n",
        "import pandas as pd\n",
        "import difflib\n",
        "from sklearn.feature_extraction.text import TfidfVectorizer\n",
        "from sklearn.metrics.pairwise import cosine_similarity"
      ]
    },
    {
      "cell_type": "markdown",
      "source": [
        "Data Pre-processing"
      ],
      "metadata": {
        "id": "GdijaJcQ777b"
      }
    },
    {
      "cell_type": "code",
      "source": [
        "#CSV File Load\n",
        "movies_data = pd.read_csv('/content/movies.csv')"
      ],
      "metadata": {
        "id": "-ID9z2so8JGI"
      },
      "execution_count": 2,
      "outputs": []
    },
    {
      "cell_type": "code",
      "source": [
        "movies_data.shape"
      ],
      "metadata": {
        "colab": {
          "base_uri": "https://localhost:8080/"
        },
        "id": "JhYZT3EM9Ddo",
        "outputId": "396ed74c-ca6e-4e71-e36c-68323aedc27d"
      },
      "execution_count": 3,
      "outputs": [
        {
          "output_type": "execute_result",
          "data": {
            "text/plain": [
              "(4803, 24)"
            ]
          },
          "metadata": {},
          "execution_count": 3
        }
      ]
    },
    {
      "cell_type": "code",
      "source": [
        "#selecting the features to consider\n",
        "selected_features = ['genres','keywords','tagline','cast','director']"
      ],
      "metadata": {
        "id": "-gzXKwyS9dLa"
      },
      "execution_count": 4,
      "outputs": []
    },
    {
      "cell_type": "code",
      "source": [
        "#replacing null values with null string\n",
        "for feature in selected_features:\n",
        "  movies_data[feature] = movies_data[feature].fillna('')"
      ],
      "metadata": {
        "id": "Giq4Mosp-Hcn"
      },
      "execution_count": 5,
      "outputs": []
    },
    {
      "cell_type": "code",
      "source": [
        "#combining all features into one\n",
        "combined_features = movies_data['genres']+' '+movies_data['keywords']+' '+movies_data['tagline']+' '+movies_data['cast']+' '+movies_data['director']"
      ],
      "metadata": {
        "id": "R_5Hdn3y_T6C"
      },
      "execution_count": 6,
      "outputs": []
    },
    {
      "cell_type": "markdown",
      "source": [
        "Feature Extraction"
      ],
      "metadata": {
        "id": "aaDWNWyMAhIi"
      }
    },
    {
      "cell_type": "code",
      "source": [
        "#Text --> Feature Vectors\n",
        "vectorizer = TfidfVectorizer()"
      ],
      "metadata": {
        "id": "JAypHuKqAlLL"
      },
      "execution_count": 7,
      "outputs": []
    },
    {
      "cell_type": "code",
      "source": [
        "feature_vectors = vectorizer.fit_transform(combined_features)"
      ],
      "metadata": {
        "id": "M_owX6QfBqLf"
      },
      "execution_count": 8,
      "outputs": []
    },
    {
      "cell_type": "markdown",
      "source": [
        "Cosine Similarity"
      ],
      "metadata": {
        "id": "KkUpD-etCNCq"
      }
    },
    {
      "cell_type": "code",
      "source": [
        "#getting similarity scores\n",
        "similarity = cosine_similarity(feature_vectors)"
      ],
      "metadata": {
        "id": "zHL4h0jICQbr"
      },
      "execution_count": 9,
      "outputs": []
    },
    {
      "cell_type": "markdown",
      "source": [
        "User Input"
      ],
      "metadata": {
        "id": "vGCWfuJADBmM"
      }
    },
    {
      "cell_type": "code",
      "source": [
        "movie_name = input('Enter your favourite movie name:')"
      ],
      "metadata": {
        "colab": {
          "base_uri": "https://localhost:8080/"
        },
        "id": "u2R9KB55DDxq",
        "outputId": "ecf1e6ac-e4e5-4ece-9ecd-b45603c197e0"
      },
      "execution_count": 10,
      "outputs": [
        {
          "name": "stdout",
          "output_type": "stream",
          "text": [
            "Enter your favourite movie name:iron man\n"
          ]
        }
      ]
    },
    {
      "cell_type": "code",
      "source": [
        "#creating a list with all the movies given in dataset\n",
        "title_list = movies_data['title'].tolist()"
      ],
      "metadata": {
        "id": "Lv3nxYyoEGsL"
      },
      "execution_count": 11,
      "outputs": []
    },
    {
      "cell_type": "code",
      "source": [
        "#finding close match using difflib\n",
        "find_close_match = difflib.get_close_matches(movie_name, title_list)"
      ],
      "metadata": {
        "id": "0Tv6O9DjEtdL"
      },
      "execution_count": 12,
      "outputs": []
    },
    {
      "cell_type": "code",
      "source": [
        "close_match = find_close_match[0]"
      ],
      "metadata": {
        "id": "avEiS7KfFeeV"
      },
      "execution_count": 13,
      "outputs": []
    },
    {
      "cell_type": "code",
      "source": [
        "#find index with title\n",
        "index_of_movie = movies_data[movies_data['title'] == close_match].index[0]"
      ],
      "metadata": {
        "id": "KbFwYIm8FvXK"
      },
      "execution_count": 14,
      "outputs": []
    },
    {
      "cell_type": "markdown",
      "source": [
        "Output"
      ],
      "metadata": {
        "id": "4vq0a850kVOl"
      }
    },
    {
      "cell_type": "code",
      "source": [
        "#getting list of similar movies\n",
        "similarity_score = list(enumerate(similarity[index_of_movie]))"
      ],
      "metadata": {
        "id": "wa1neybkjV1z"
      },
      "execution_count": 15,
      "outputs": []
    },
    {
      "cell_type": "code",
      "source": [
        "#sorting based on high score\n",
        "sorted_similar_movies = sorted(similarity_score, key = lambda x:x[1], reverse = True)"
      ],
      "metadata": {
        "id": "A4e04mNYkKul"
      },
      "execution_count": 16,
      "outputs": []
    },
    {
      "cell_type": "code",
      "source": [
        "#print the name of similar movies based on index\n",
        "print('Movies suggested for you: \\n')\n",
        "\n",
        "i = 1\n",
        "\n",
        "for movie in sorted_similar_movies:\n",
        "  index = movie[0]\n",
        "  title_from_index = movies_data[movies_data.index == index]['title'].values[0]\n",
        "  if (i <= 30):\n",
        "    print(i, '.', title_from_index)\n",
        "    i += 1"
      ],
      "metadata": {
        "colab": {
          "base_uri": "https://localhost:8080/"
        },
        "id": "k0spDJuRmGEE",
        "outputId": "bfe51634-9103-4e96-c387-d70c576fd334"
      },
      "execution_count": 18,
      "outputs": [
        {
          "output_type": "stream",
          "name": "stdout",
          "text": [
            "Movies suggested for you: \n",
            "\n",
            "1 . Iron Man\n",
            "2 . Iron Man 2\n",
            "3 . Iron Man 3\n",
            "4 . Avengers: Age of Ultron\n",
            "5 . The Avengers\n",
            "6 . Captain America: Civil War\n",
            "7 . Captain America: The Winter Soldier\n",
            "8 . Ant-Man\n",
            "9 . X-Men\n",
            "10 . Made\n",
            "11 . X-Men: Apocalypse\n",
            "12 . X2\n",
            "13 . The Incredible Hulk\n",
            "14 . The Helix... Loaded\n",
            "15 . X-Men: First Class\n",
            "16 . X-Men: Days of Future Past\n",
            "17 . Captain America: The First Avenger\n",
            "18 . Kick-Ass 2\n",
            "19 . Guardians of the Galaxy\n",
            "20 . Deadpool\n",
            "21 . Thor: The Dark World\n",
            "22 . G-Force\n",
            "23 . X-Men: The Last Stand\n",
            "24 . Duets\n",
            "25 . Mortdecai\n",
            "26 . The Last Airbender\n",
            "27 . Southland Tales\n",
            "28 . Zathura: A Space Adventure\n",
            "29 . Sky Captain and the World of Tomorrow\n",
            "30 . The Amazing Spider-Man 2\n"
          ]
        }
      ]
    }
  ]
}